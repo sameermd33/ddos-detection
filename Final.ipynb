{
 "cells": [
  {
   "cell_type": "code",
   "execution_count": 1,
   "id": "727ee44f-78ce-4be7-9edc-7739d62fb895",
   "metadata": {},
   "outputs": [],
   "source": [
    "import numpy as np\n",
    "import pandas as pd\n",
    "import seaborn as sns\n",
    "import matplotlib.pyplot as plt\n",
    "from sklearn.model_selection import train_test_split\n",
    "from sklearn.preprocessing import StandardScaler\n",
    "from sklearn.metrics import classification_report, confusion_matrix\n",
    "from sklearn.ensemble import GradientBoostingClassifier \n",
    "import torch\n",
    "import torch.nn as nn\n",
    "import torch.optim as optim\n",
    "from torch.utils.data import DataLoader, TensorDataset\n"
   ]
  },
  {
   "cell_type": "code",
   "execution_count": 2,
   "id": "edcf0274-217a-4853-b70c-1aca7c8c04fc",
   "metadata": {},
   "outputs": [
    {
     "data": {
      "text/html": [
       "<div>\n",
       "<style scoped>\n",
       "    .dataframe tbody tr th:only-of-type {\n",
       "        vertical-align: middle;\n",
       "    }\n",
       "\n",
       "    .dataframe tbody tr th {\n",
       "        vertical-align: top;\n",
       "    }\n",
       "\n",
       "    .dataframe thead th {\n",
       "        text-align: right;\n",
       "    }\n",
       "</style>\n",
       "<table border=\"1\" class=\"dataframe\">\n",
       "  <thead>\n",
       "    <tr style=\"text-align: right;\">\n",
       "      <th></th>\n",
       "      <th>dt</th>\n",
       "      <th>switch</th>\n",
       "      <th>src</th>\n",
       "      <th>dst</th>\n",
       "      <th>pktcount</th>\n",
       "      <th>bytecount</th>\n",
       "      <th>dur</th>\n",
       "      <th>dur_nsec</th>\n",
       "      <th>tot_dur</th>\n",
       "      <th>flows</th>\n",
       "      <th>...</th>\n",
       "      <th>pktrate</th>\n",
       "      <th>Pairflow</th>\n",
       "      <th>Protocol</th>\n",
       "      <th>port_no</th>\n",
       "      <th>tx_bytes</th>\n",
       "      <th>rx_bytes</th>\n",
       "      <th>tx_kbps</th>\n",
       "      <th>rx_kbps</th>\n",
       "      <th>tot_kbps</th>\n",
       "      <th>label</th>\n",
       "    </tr>\n",
       "  </thead>\n",
       "  <tbody>\n",
       "    <tr>\n",
       "      <th>0</th>\n",
       "      <td>11425</td>\n",
       "      <td>1</td>\n",
       "      <td>10.0.0.1</td>\n",
       "      <td>10.0.0.8</td>\n",
       "      <td>45304</td>\n",
       "      <td>48294064</td>\n",
       "      <td>100</td>\n",
       "      <td>716000000</td>\n",
       "      <td>1.010000e+11</td>\n",
       "      <td>3</td>\n",
       "      <td>...</td>\n",
       "      <td>451</td>\n",
       "      <td>0</td>\n",
       "      <td>UDP</td>\n",
       "      <td>3</td>\n",
       "      <td>143928631</td>\n",
       "      <td>3917</td>\n",
       "      <td>0</td>\n",
       "      <td>0.0</td>\n",
       "      <td>0.0</td>\n",
       "      <td>0</td>\n",
       "    </tr>\n",
       "    <tr>\n",
       "      <th>1</th>\n",
       "      <td>11605</td>\n",
       "      <td>1</td>\n",
       "      <td>10.0.0.1</td>\n",
       "      <td>10.0.0.8</td>\n",
       "      <td>126395</td>\n",
       "      <td>134737070</td>\n",
       "      <td>280</td>\n",
       "      <td>734000000</td>\n",
       "      <td>2.810000e+11</td>\n",
       "      <td>2</td>\n",
       "      <td>...</td>\n",
       "      <td>451</td>\n",
       "      <td>0</td>\n",
       "      <td>UDP</td>\n",
       "      <td>4</td>\n",
       "      <td>3842</td>\n",
       "      <td>3520</td>\n",
       "      <td>0</td>\n",
       "      <td>0.0</td>\n",
       "      <td>0.0</td>\n",
       "      <td>0</td>\n",
       "    </tr>\n",
       "    <tr>\n",
       "      <th>2</th>\n",
       "      <td>11425</td>\n",
       "      <td>1</td>\n",
       "      <td>10.0.0.2</td>\n",
       "      <td>10.0.0.8</td>\n",
       "      <td>90333</td>\n",
       "      <td>96294978</td>\n",
       "      <td>200</td>\n",
       "      <td>744000000</td>\n",
       "      <td>2.010000e+11</td>\n",
       "      <td>3</td>\n",
       "      <td>...</td>\n",
       "      <td>451</td>\n",
       "      <td>0</td>\n",
       "      <td>UDP</td>\n",
       "      <td>1</td>\n",
       "      <td>3795</td>\n",
       "      <td>1242</td>\n",
       "      <td>0</td>\n",
       "      <td>0.0</td>\n",
       "      <td>0.0</td>\n",
       "      <td>0</td>\n",
       "    </tr>\n",
       "    <tr>\n",
       "      <th>3</th>\n",
       "      <td>11425</td>\n",
       "      <td>1</td>\n",
       "      <td>10.0.0.2</td>\n",
       "      <td>10.0.0.8</td>\n",
       "      <td>90333</td>\n",
       "      <td>96294978</td>\n",
       "      <td>200</td>\n",
       "      <td>744000000</td>\n",
       "      <td>2.010000e+11</td>\n",
       "      <td>3</td>\n",
       "      <td>...</td>\n",
       "      <td>451</td>\n",
       "      <td>0</td>\n",
       "      <td>UDP</td>\n",
       "      <td>2</td>\n",
       "      <td>3688</td>\n",
       "      <td>1492</td>\n",
       "      <td>0</td>\n",
       "      <td>0.0</td>\n",
       "      <td>0.0</td>\n",
       "      <td>0</td>\n",
       "    </tr>\n",
       "    <tr>\n",
       "      <th>4</th>\n",
       "      <td>11425</td>\n",
       "      <td>1</td>\n",
       "      <td>10.0.0.2</td>\n",
       "      <td>10.0.0.8</td>\n",
       "      <td>90333</td>\n",
       "      <td>96294978</td>\n",
       "      <td>200</td>\n",
       "      <td>744000000</td>\n",
       "      <td>2.010000e+11</td>\n",
       "      <td>3</td>\n",
       "      <td>...</td>\n",
       "      <td>451</td>\n",
       "      <td>0</td>\n",
       "      <td>UDP</td>\n",
       "      <td>3</td>\n",
       "      <td>3413</td>\n",
       "      <td>3665</td>\n",
       "      <td>0</td>\n",
       "      <td>0.0</td>\n",
       "      <td>0.0</td>\n",
       "      <td>0</td>\n",
       "    </tr>\n",
       "  </tbody>\n",
       "</table>\n",
       "<p>5 rows × 23 columns</p>\n",
       "</div>"
      ],
      "text/plain": [
       "      dt  switch       src       dst  pktcount  bytecount  dur   dur_nsec  \\\n",
       "0  11425       1  10.0.0.1  10.0.0.8     45304   48294064  100  716000000   \n",
       "1  11605       1  10.0.0.1  10.0.0.8    126395  134737070  280  734000000   \n",
       "2  11425       1  10.0.0.2  10.0.0.8     90333   96294978  200  744000000   \n",
       "3  11425       1  10.0.0.2  10.0.0.8     90333   96294978  200  744000000   \n",
       "4  11425       1  10.0.0.2  10.0.0.8     90333   96294978  200  744000000   \n",
       "\n",
       "        tot_dur  flows  ...  pktrate  Pairflow  Protocol  port_no   tx_bytes  \\\n",
       "0  1.010000e+11      3  ...      451         0       UDP        3  143928631   \n",
       "1  2.810000e+11      2  ...      451         0       UDP        4       3842   \n",
       "2  2.010000e+11      3  ...      451         0       UDP        1       3795   \n",
       "3  2.010000e+11      3  ...      451         0       UDP        2       3688   \n",
       "4  2.010000e+11      3  ...      451         0       UDP        3       3413   \n",
       "\n",
       "  rx_bytes  tx_kbps  rx_kbps  tot_kbps  label  \n",
       "0     3917        0      0.0       0.0      0  \n",
       "1     3520        0      0.0       0.0      0  \n",
       "2     1242        0      0.0       0.0      0  \n",
       "3     1492        0      0.0       0.0      0  \n",
       "4     3665        0      0.0       0.0      0  \n",
       "\n",
       "[5 rows x 23 columns]"
      ]
     },
     "execution_count": 2,
     "metadata": {},
     "output_type": "execute_result"
    }
   ],
   "source": [
    "\n",
    "df = pd.read_csv('dataset_sdn.csv')\n",
    "df.head() \n"
   ]
  },
  {
   "cell_type": "code",
   "execution_count": 3,
   "id": "239c7594-0b67-48d0-aa99-535c16983344",
   "metadata": {},
   "outputs": [],
   "source": [
    "\n",
    "df.dropna(inplace=True)\n",
    "df = pd.get_dummies(df, columns=['Protocol'], drop_first=True)\n",
    "df.drop(columns=['src', 'dst'], inplace=True)\n",
    "X = df.drop('label', axis=1)\n",
    "y = df['label']\n",
    "\n",
    "\n",
    "scaler = StandardScaler()\n",
    "X_scaled = scaler.fit_transform(X)\n",
    "\n",
    "\n",
    "X_train, X_test, y_train, y_test = train_test_split(X_scaled, y, test_size=0.2, random_state=42)\n"
   ]
  },
  {
   "cell_type": "code",
   "execution_count": 4,
   "id": "2111a93a-28a0-4bde-ac70-bdec59d44b13",
   "metadata": {},
   "outputs": [],
   "source": [
    "\n",
    "X_train_tensor = torch.tensor(X_train, dtype=torch.float32)\n",
    "X_test_tensor = torch.tensor(X_test, dtype=torch.float32)\n",
    "y_train_tensor = torch.tensor(y_train.values, dtype=torch.float32).unsqueeze(1)\n",
    "y_test_tensor = torch.tensor(y_test.values, dtype=torch.float32).unsqueeze(1)\n",
    "\n",
    "\n",
    "train_dataset = TensorDataset(X_train_tensor, y_train_tensor)\n",
    "test_dataset = TensorDataset(X_test_tensor, y_test_tensor)\n",
    "\n",
    "train_loader = DataLoader(train_dataset, batch_size=32, shuffle=True)\n",
    "test_loader = DataLoader(test_dataset, batch_size=32, shuffle=False)\n"
   ]
  },
  {
   "cell_type": "code",
   "execution_count": 5,
   "id": "8bdbe9ca-2963-4edc-8a18-2725f00fe968",
   "metadata": {},
   "outputs": [],
   "source": [
    "\n",
    "def custom_weights(m):\n",
    "    if isinstance(m, nn.Linear):\n",
    "        nn.init.kaiming_normal_(m.weight)\n"
   ]
  },
  {
   "cell_type": "code",
   "execution_count": 6,
   "id": "77680801-2286-402a-81a6-64a97027c783",
   "metadata": {},
   "outputs": [],
   "source": [
    "\n",
    "class DDoSModel(nn.Module):\n",
    "    def __init__(self):\n",
    "        super(DDoSModel, self).__init__()\n",
    "        self.fc1 = nn.Linear(X_train.shape[1], 128)\n",
    "        self.fc2 = nn.Linear(128, 64)\n",
    "        self.fc3 = nn.Linear(64, 32)\n",
    "        self.fc4 = nn.Linear(32, 16)\n",
    "        self.fc5 = nn.Linear(16, 1)\n",
    "        self.dropout = nn.Dropout(0.5)\n",
    "        self.leaky_relu = nn.LeakyReLU(negative_slope=0.01)\n",
    "        self.layer_norm = nn.LayerNorm(128)\n",
    "        self.shortcut = nn.Linear(X_train.shape[1], 32)  # Adjust dimensions for residual connection\n",
    "    \n",
    "    def forward(self, x):\n",
    "        identity = x\n",
    "        x = self.leaky_relu(self.layer_norm(self.fc1(x)))\n",
    "        x = self.dropout(x)\n",
    "        x = self.leaky_relu(self.fc2(x))\n",
    "        x = self.dropout(x)\n",
    "        x = self.leaky_relu(self.fc3(x))\n",
    "        \n",
    "        identity = self.shortcut(identity)  # Project to match the dimensions\n",
    "        x += identity  # Residual connection\n",
    "\n",
    "        x = self.leaky_relu(self.fc4(x))\n",
    "        x = torch.sigmoid(self.fc5(x))\n",
    "        return x\n"
   ]
  },
  {
   "cell_type": "code",
   "execution_count": 7,
   "id": "a0402811-c505-4ef8-acd8-e50a32a9728d",
   "metadata": {},
   "outputs": [],
   "source": [
    "\n",
    "model = DDoSModel()\n",
    "model.apply(custom_weights)\n",
    "\n",
    "\n",
    "criterion = nn.BCELoss()\n",
    "optimizer = optim.Adam(model.parameters(), lr=0.001)\n",
    "scheduler = optim.lr_scheduler.StepLR(optimizer, step_size=10, gamma=0.1)\n",
    "epochs = 50\n"
   ]
  },
  {
   "cell_type": "code",
   "execution_count": 8,
   "id": "1cc25115-2695-41ba-903c-f1d37b043282",
   "metadata": {},
   "outputs": [
    {
     "name": "stdout",
     "output_type": "stream",
     "text": [
      "Epoch 1/50, Loss: 0.1931776443631955\n",
      "Epoch 2/50, Loss: 0.09923950277004485\n",
      "Epoch 3/50, Loss: 0.07840262659355778\n",
      "Epoch 4/50, Loss: 0.06419227799789128\n",
      "Epoch 5/50, Loss: 0.05458553775848607\n",
      "Epoch 6/50, Loss: 0.04792217075734063\n",
      "Epoch 7/50, Loss: 0.04282583160040699\n",
      "Epoch 8/50, Loss: 0.04014982428717501\n",
      "Epoch 9/50, Loss: 0.034215634797403506\n",
      "Epoch 10/50, Loss: 0.03605759739086761\n",
      "Epoch 11/50, Loss: 0.023352123304735052\n",
      "Epoch 12/50, Loss: 0.021657515670774338\n",
      "Epoch 13/50, Loss: 0.021414816976748106\n",
      "Epoch 14/50, Loss: 0.02104825274862971\n",
      "Epoch 15/50, Loss: 0.020776424478867912\n",
      "Epoch 16/50, Loss: 0.020552255785605385\n",
      "Epoch 17/50, Loss: 0.019627246005378112\n",
      "Epoch 18/50, Loss: 0.019577621796063826\n",
      "Epoch 19/50, Loss: 0.019285394724141033\n",
      "Epoch 20/50, Loss: 0.019259035441188344\n",
      "Epoch 21/50, Loss: 0.018606364664989293\n",
      "Epoch 22/50, Loss: 0.01864631971973348\n",
      "Epoch 23/50, Loss: 0.018208732140263348\n",
      "Epoch 24/50, Loss: 0.018710433792893364\n",
      "Epoch 25/50, Loss: 0.01883949924636784\n",
      "Epoch 26/50, Loss: 0.018504039213511153\n",
      "Epoch 27/50, Loss: 0.018185034279350476\n",
      "Epoch 28/50, Loss: 0.017983641206643447\n",
      "Epoch 29/50, Loss: 0.018464288992965636\n",
      "Epoch 30/50, Loss: 0.018021886194093367\n",
      "Epoch 31/50, Loss: 0.018471584432385856\n",
      "Epoch 32/50, Loss: 0.018071634499581365\n",
      "Epoch 33/50, Loss: 0.018164424865796815\n",
      "Epoch 34/50, Loss: 0.018015274431304247\n",
      "Epoch 35/50, Loss: 0.018159555593892217\n",
      "Epoch 36/50, Loss: 0.018067145779501706\n",
      "Epoch 37/50, Loss: 0.01787776759892487\n",
      "Epoch 38/50, Loss: 0.017860779367495878\n",
      "Epoch 39/50, Loss: 0.018130126168411663\n",
      "Epoch 40/50, Loss: 0.017514290312936096\n",
      "Epoch 41/50, Loss: 0.01786357940244662\n",
      "Epoch 42/50, Loss: 0.017849944395299102\n",
      "Epoch 43/50, Loss: 0.017950371210065073\n",
      "Epoch 44/50, Loss: 0.018136637976162027\n",
      "Epoch 45/50, Loss: 0.01809342061230868\n",
      "Epoch 46/50, Loss: 0.018588770748366876\n",
      "Epoch 47/50, Loss: 0.018273736174421715\n",
      "Epoch 48/50, Loss: 0.018312118743828536\n",
      "Epoch 49/50, Loss: 0.0182978101320084\n",
      "Epoch 50/50, Loss: 0.017845075640532716\n"
     ]
    }
   ],
   "source": [
    "\n",
    "epoch_losses = []\n",
    "\n",
    "for epoch in range(epochs):\n",
    "    model.train()\n",
    "    running_loss = 0.0\n",
    "    for inputs, labels in train_loader:\n",
    "        optimizer.zero_grad()\n",
    "        outputs = model(inputs)\n",
    "        loss = criterion(outputs, labels)\n",
    "        loss.backward()\n",
    "        nn.utils.clip_grad_norm_(model.parameters(), max_norm=1.0)  # Gradient clipping\n",
    "        optimizer.step()\n",
    "        running_loss += loss.item()\n",
    "    \n",
    "    scheduler.step()\n",
    "    avg_epoch_loss = running_loss / len(train_loader)\n",
    "    epoch_losses.append(avg_epoch_loss)  # Record the average loss for this epoch\n",
    "    print(f'Epoch {epoch+1}/{epochs}, Loss: {avg_epoch_loss}')\n"
   ]
  },
  {
   "cell_type": "code",
   "execution_count": 9,
   "id": "a8bb3ea8-e482-46f9-8d1e-a83c61d56683",
   "metadata": {},
   "outputs": [
    {
     "data": {
      "image/png": "[encoded data removed]",
      "text/plain": [
       "<Figure size 1000x500 with 1 Axes>"
      ]
     },
     "metadata": {},
     "output_type": "display_data"
    }
   ],
   "source": [
    "\n",
    "plt.figure(figsize=(10, 5))\n",
    "plt.plot(range(1, epochs + 1), epoch_losses, label='Training Loss')\n",
    "plt.title('Training Loss Over Epochs')\n",
    "plt.xlabel('Epochs')\n",
    "plt.ylabel('Loss')\n",
    "plt.legend()\n",
    "plt.show()\n"
   ]
  },
  {
   "cell_type": "code",
   "execution_count": 10,
   "id": "548f1aef-5227-4957-8c98-7a63cea9f789",
   "metadata": {},
   "outputs": [
    {
     "data": {
      "image/png": "[encoded data removed]",
      "text/plain": [
       "<Figure size 640x480 with 2 Axes>"
      ]
     },
     "metadata": {},
     "output_type": "display_data"
    },
    {
     "name": "stdout",
     "output_type": "stream",
     "text": [
      "              precision    recall  f1-score   support\n",
      "\n",
      "           0       1.00      1.00      1.00     12613\n",
      "           1       0.99      1.00      0.99      8155\n",
      "\n",
      "    accuracy                           1.00     20768\n",
      "   macro avg       1.00      1.00      1.00     20768\n",
      "weighted avg       1.00      1.00      1.00     20768\n",
      "\n"
     ]
    }
   ],
   "source": [
    "\n",
    "model.eval()\n",
    "with torch.no_grad():\n",
    "    y_pred = model(X_test_tensor).round()\n",
    "    \n",
    "  \n",
    "    cm = confusion_matrix(y_test, y_pred)\n",
    "    sns.heatmap(cm, annot=True)\n",
    "    plt.show()\n",
    "\n",
    "  \n",
    "    print(classification_report(y_test, y_pred))\n"
   ]
  },
  {
   "cell_type": "code",
   "execution_count": 11,
   "id": "73c9bfb5-3e56-4e9d-b2eb-668bd651ed7a",
   "metadata": {},
   "outputs": [
    {
     "name": "stdout",
     "output_type": "stream",
     "text": [
      "Final Ensemble Model Evaluation:\n",
      "              precision    recall  f1-score   support\n",
      "\n",
      "           0       1.00      1.00      1.00     12613\n",
      "           1       0.99      1.00      0.99      8155\n",
      "\n",
      "    accuracy                           1.00     20768\n",
      "   macro avg       0.99      1.00      0.99     20768\n",
      "weighted avg       1.00      1.00      1.00     20768\n",
      "\n"
     ]
    }
   ],
   "source": [
    "\n",
    "with torch.no_grad():\n",
    "    nn_preds = model(X_train_tensor).squeeze(1).detach().numpy()\n",
    "    \n",
    "gb = GradientBoostingClassifier(n_estimators=100)\n",
    "gb.fit(nn_preds.reshape(-1, 1), y_train)\n",
    "gb_preds = gb.predict(model(X_test_tensor).squeeze(1).detach().numpy().reshape(-1, 1))\n",
    "\n",
    "\n",
    "print(\"Final Ensemble Model Evaluation:\")\n",
    "print(classification_report(y_test, gb_preds))\n"
   ]
  },
  {
   "cell_type": "code",
   "execution_count": 12,
   "id": "46dd78b6-0ed3-4516-8050-dc94dd6a3d40",
   "metadata": {},
   "outputs": [
    {
     "name": "stdout",
     "output_type": "stream",
     "text": [
      "         Feature  Importance\n",
      "10   byteperflow    0.264043\n",
      "9     pktperflow    0.235720\n",
      "3      bytecount    0.213911\n",
      "8      packetins    0.139777\n",
      "2       pktcount    0.096347\n",
      "19  Protocol_TCP    0.025239\n",
      "11       pktrate    0.012505\n",
      "6        tot_dur    0.005564\n",
      "0             dt    0.003733\n",
      "20  Protocol_UDP    0.001767\n",
      "4            dur    0.001305\n",
      "14      tx_bytes    0.000049\n",
      "15      rx_bytes    0.000039\n",
      "5       dur_nsec    0.000003\n",
      "7          flows    0.000000\n",
      "1         switch    0.000000\n",
      "12      Pairflow    0.000000\n",
      "13       port_no    0.000000\n",
      "16       tx_kbps    0.000000\n",
      "17       rx_kbps    0.000000\n",
      "18      tot_kbps    0.000000\n"
     ]
    }
   ],
   "source": [
    "\n",
    "gb_raw = GradientBoostingClassifier(n_estimators=100)\n",
    "gb_raw.fit(X_train, y_train)\n",
    "\n",
    "\n",
    "feature_importances = gb_raw.feature_importances_\n",
    "\n",
    "\n",
    "importance_df = pd.DataFrame({\n",
    "    'Feature': X.columns,\n",
    "    'Importance': feature_importances\n",
    "}).sort_values(by='Importance', ascending=False)\n",
    "\n",
    "\n",
    "print(importance_df)\n"
   ]
  },
  {
   "cell_type": "code",
   "execution_count": 13,
   "id": "336f6765-0dde-4929-a394-0feeb2ff2938",
   "metadata": {},
   "outputs": [],
   "source": [
    "import warnings\n",
    "warnings.filterwarnings('ignore')"
   ]
  },
  {
   "cell_type": "code",
   "execution_count": 14,
   "id": "0bbf3348-9726-46dd-8ec1-07f413f8a43d",
   "metadata": {},
   "outputs": [
    {
     "data": {
      "image/png": "[encoded data removed]",
      "text/plain": [
       "<Figure size 1200x800 with 1 Axes>"
      ]
     },
     "metadata": {},
     "output_type": "display_data"
    }
   ],
   "source": [
    "\n",
    "plt.figure(figsize=(12, 8))\n",
    "sns.barplot(x='Importance', y='Feature', data=importance_df, palette='viridis')\n",
    "plt.title('Feature Importances from Gradient Boosting Classifier')\n",
    "plt.xlabel('Importance')\n",
    "plt.ylabel('Feature')\n",
    "plt.show()\n"
   ]
  },
  {
   "cell_type": "code",
   "execution_count": 15,
   "id": "9050a1b0-be1f-4663-8118-43a3bef5120a",
   "metadata": {},
   "outputs": [
    {
     "data": {
      "text/plain": [
       "['scaler.pkl']"
      ]
     },
     "execution_count": 15,
     "metadata": {},
     "output_type": "execute_result"
    }
   ],
   "source": [
    "import joblib\n",
    "\n",
    "\n",
    "torch.save(model.state_dict(), 'ddos_model.pth')\n",
    "\n",
    "\n",
    "joblib.dump(scaler, 'scaler.pkl')\n"
   ]
  },
  {
   "cell_type": "code",
   "execution_count": 16,
   "id": "f78bd984-d1b4-428d-b616-81b91780a290",
   "metadata": {},
   "outputs": [
    {
     "name": "stdout",
     "output_type": "stream",
     "text": [
      "['dt', 'switch', 'pktcount', 'bytecount', 'dur', 'dur_nsec', 'tot_dur', 'flows', 'packetins', 'pktperflow', 'byteperflow', 'pktrate', 'Pairflow', 'port_no', 'tx_bytes', 'rx_bytes', 'tx_kbps', 'rx_kbps', 'tot_kbps', 'label', 'Protocol_TCP', 'Protocol_UDP']\n"
     ]
    }
   ],
   "source": [
    "\n",
    "column_names = df.columns.tolist()\n",
    "\n",
    "print(column_names)\n"
   ]
  },
  {
   "cell_type": "code",
   "execution_count": 17,
   "id": "6fb96958-49f3-4428-9681-096ad9658b98",
   "metadata": {},
   "outputs": [],
   "source": [
    "import torch\n",
    "import joblib\n",
    "import numpy as np\n",
    "import pandas as pd\n",
    "\n",
    "\n",
    "model = DDoSModel()\n",
    "model.load_state_dict(torch.load('ddos_model.pth'))\n",
    "model.eval()\n",
    "\n",
    "\n",
    "scaler = joblib.load('scaler.pkl')\n"
   ]
  },
  {
   "cell_type": "code",
   "execution_count": 18,
   "id": "71b75dbb-66fc-47b2-ae65-1df1879a8b1c",
   "metadata": {},
   "outputs": [],
   "source": [
    "\n",
    "input_data = np.array([[11335, 1, 4777, 5092282, 10, 711000000, 10711000000, 3, 1790, 0, 0, 0, 0, 1, 2, 3646, 1492, 0, 0, 0, 1]])\n",
    "\n",
    "\n",
    "input_data_scaled = scaler.transform(input_data)\n",
    "\n",
    "\n",
    "input_tensor = torch.tensor(input_data_scaled, dtype=torch.float32)\n"
   ]
  },
  {
   "cell_type": "code",
   "execution_count": 19,
   "id": "d531b29f-7b40-4537-ba6e-00baaac31dc8",
   "metadata": {},
   "outputs": [
    {
     "name": "stdout",
     "output_type": "stream",
     "text": [
      "The input data indicates a DDoS attack.\n"
     ]
    }
   ],
   "source": [
    "\n",
    "with torch.no_grad():\n",
    "    prediction = model(input_tensor).round().item()\n",
    "\n",
    "if prediction == 1:\n",
    "    print(\"The input data indicates a DDoS attack.\")\n",
    "else:\n",
    "    print(\"The input data does not indicate a DDoS attack.\")\n"
   ]
  },
  {
   "cell_type": "code",
   "execution_count": null,
   "id": "4dc6a50a-4740-4cf2-b84c-ec11e2c3e63a",
   "metadata": {},
   "outputs": [],
   "source": []
  }
 ],
 "metadata": {
  "kernelspec": {
   "display_name": "Python 3 (ipykernel)",
   "language": "python",
   "name": "python3"
  },
  "language_info": {
   "codemirror_mode": {
    "name": "ipython",
    "version": 3
   },
   "file_extension": ".py",
   "mimetype": "text/x-python",
   "name": "python",
   "nbconvert_exporter": "python",
   "pygments_lexer": "ipython3",
   "version": "3.12.5"
  }
 },
 "nbformat": 4,
 "nbformat_minor": 5
}
